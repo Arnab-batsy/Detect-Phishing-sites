{
 "cells": [
  {
   "cell_type": "code",
   "execution_count": 10,
   "id": "a455994c-b42a-467b-8968-140611a5de69",
   "metadata": {},
   "outputs": [],
   "source": [
    "import pandas as pd\n",
    "from sklearn.model_selection import train_test_split\n",
    "from sklearn.linear_model import LogisticRegression\n",
    "from sklearn.metrics import accuracy_score, classification_report, confusion_matrix\n",
    "from sklearn.preprocessing import StandardScaler\n",
    "import joblib"
   ]
  },
  {
   "cell_type": "code",
   "execution_count": 11,
   "id": "112c972f-4b9d-451d-9245-54da09de6167",
   "metadata": {},
   "outputs": [],
   "source": [
    "# Load the dataset\n",
    "file_path = 'Phishing_Legitimate_full.csv'\n",
    "data = pd.read_csv(file_path)"
   ]
  },
  {
   "cell_type": "code",
   "execution_count": 12,
   "id": "84790612-93d2-4561-b7a3-e781a071ff2e",
   "metadata": {},
   "outputs": [],
   "source": [
    "# Separate features and target variable\n",
    "X = data.drop(columns=['CLASS_LABEL', 'id'])  # Drop 'CLASS_LABEL' and 'id' columns for features\n",
    "y = data['CLASS_LABEL']  # Target variable"
   ]
  },
  {
   "cell_type": "code",
   "execution_count": 13,
   "id": "fbe60f23-0899-4af2-90be-947117a03061",
   "metadata": {},
   "outputs": [
    {
     "name": "stdout",
     "output_type": "stream",
     "text": [
      "Training Accuracy: 94.74%\n",
      "Testing Accuracy: 93.90%\n",
      "Classification Report:\n",
      "              precision    recall  f1-score   support\n",
      "\n",
      "           0       0.95      0.93      0.94       988\n",
      "           1       0.93      0.95      0.94      1012\n",
      "\n",
      "    accuracy                           0.94      2000\n",
      "   macro avg       0.94      0.94      0.94      2000\n",
      "weighted avg       0.94      0.94      0.94      2000\n",
      "\n",
      "Confusion Matrix:\n",
      "[[919  69]\n",
      " [ 53 959]]\n",
      "Model saved as logistic_regression_model.pkl\n",
      "Scaler saved as scaler.pkl\n"
     ]
    }
   ],
   "source": [
    "# Check for missing values\n",
    "if data.isnull().sum().sum() > 0:\n",
    "    print(\"The dataset contains missing values.\")\n",
    "else:\n",
    "    # Standardize the features\n",
    "    scaler = StandardScaler()\n",
    "    X_scaled = scaler.fit_transform(X)\n",
    "    \n",
    "    # Split the data into training and testing sets\n",
    "    X_train_scaled, X_test_scaled, y_train, y_test = train_test_split(X_scaled, y, test_size=0.2, random_state=42)\n",
    "    \n",
    "    # Create and train the logistic regression model with scaled data\n",
    "    log_reg_model_scaled = LogisticRegression(max_iter=10000)\n",
    "    log_reg_model_scaled.fit(X_train_scaled, y_train)\n",
    "    \n",
    "    # Make predictions on the training and test data\n",
    "    y_train_pred_scaled = log_reg_model_scaled.predict(X_train_scaled)\n",
    "    y_test_pred_scaled = log_reg_model_scaled.predict(X_test_scaled)\n",
    "    \n",
    "    # Evaluate the model with scaled data\n",
    "    train_accuracy_scaled = accuracy_score(y_train, y_train_pred_scaled)\n",
    "    test_accuracy_scaled = accuracy_score(y_test, y_test_pred_scaled)\n",
    "    classification_rep_scaled = classification_report(y_test, y_test_pred_scaled)\n",
    "    confusion_mat_scaled = confusion_matrix(y_test, y_test_pred_scaled)\n",
    "    \n",
    "    # Print the results\n",
    "    print(f'Training Accuracy: {train_accuracy_scaled * 100:.2f}%')\n",
    "    print(f'Testing Accuracy: {test_accuracy_scaled * 100:.2f}%')\n",
    "    print('Classification Report:')\n",
    "    print(classification_rep_scaled)\n",
    "    print('Confusion Matrix:')\n",
    "    print(confusion_mat_scaled)\n",
    "    \n",
    "    # Save the model\n",
    "    model_filename = 'logistic_regression_model.pkl'\n",
    "    joblib.dump(log_reg_model_scaled, model_filename)\n",
    "    print(f'Model saved as {model_filename}')\n",
    "    \n",
    "    # Save the scaler\n",
    "    scaler_filename = 'scaler.pkl'\n",
    "    joblib.dump(scaler, scaler_filename)\n",
    "    print(f'Scaler saved as {scaler_filename}')"
   ]
  },
  {
   "cell_type": "code",
   "execution_count": null,
   "id": "e3ef0c5e-e980-417b-97a1-1ad1a85367d5",
   "metadata": {},
   "outputs": [],
   "source": []
  }
 ],
 "metadata": {
  "kernelspec": {
   "display_name": "Python 3 (ipykernel)",
   "language": "python",
   "name": "python3"
  },
  "language_info": {
   "codemirror_mode": {
    "name": "ipython",
    "version": 3
   },
   "file_extension": ".py",
   "mimetype": "text/x-python",
   "name": "python",
   "nbconvert_exporter": "python",
   "pygments_lexer": "ipython3",
   "version": "3.12.0"
  }
 },
 "nbformat": 4,
 "nbformat_minor": 5
}
